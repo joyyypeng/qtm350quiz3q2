{
  "nbformat": 4,
  "nbformat_minor": 0,
  "metadata": {
    "colab": {
      "provenance": []
    },
    "kernelspec": {
      "name": "python3",
      "display_name": "Python 3"
    },
    "language_info": {
      "name": "python"
    }
  },
  "cells": [
    {
      "cell_type": "code",
      "execution_count": 3,
      "metadata": {
        "colab": {
          "base_uri": "https://localhost:8080/"
        },
        "id": "R76JR2G2mjUc",
        "outputId": "24e9edb8-e218-43b3-d58c-697a567f661a"
      },
      "outputs": [
        {
          "output_type": "stream",
          "name": "stdout",
          "text": [
            "--2022-09-26 02:40:31--  http://archive.ics.uci.edu/ml/machine-learning-databases/adult/adult.data\n",
            "Resolving archive.ics.uci.edu (archive.ics.uci.edu)... 128.195.10.252\n",
            "Connecting to archive.ics.uci.edu (archive.ics.uci.edu)|128.195.10.252|:80... connected.\n",
            "HTTP request sent, awaiting response... 200 OK\n",
            "Length: 3974305 (3.8M) [application/x-httpd-php]\n",
            "Saving to: ‘adult.data’\n",
            "\n",
            "adult.data          100%[===================>]   3.79M  6.81MB/s    in 0.6s    \n",
            "\n",
            "2022-09-26 02:40:31 (6.81 MB/s) - ‘adult.data’ saved [3974305/3974305]\n",
            "\n"
          ]
        }
      ],
      "source": [
        "!wget http://archive.ics.uci.edu/ml/machine-learning-databases/adult/adult.data"
      ]
    },
    {
      "cell_type": "code",
      "source": [
        "!wc -l adult.data\n",
        "#how many lines it contains "
      ],
      "metadata": {
        "colab": {
          "base_uri": "https://localhost:8080/"
        },
        "id": "AAK_fjSVqt_M",
        "outputId": "631d009d-190f-4eb5-adda-ecf86ff04273"
      },
      "execution_count": 10,
      "outputs": [
        {
          "output_type": "stream",
          "name": "stdout",
          "text": [
            "32562 adult.data\n"
          ]
        }
      ]
    },
    {
      "cell_type": "code",
      "source": [
        "!echo \"age,workclass,fnlwgt,education,education-num,marital-status,occupation,relationship,race,sex,capital-gain,capital-loss,native-country,class\" > header.csv"
      ],
      "metadata": {
        "id": "sS2-3fElr29B"
      },
      "execution_count": 12,
      "outputs": []
    },
    {
      "cell_type": "code",
      "source": [
        "!cat header.csv adult.data > adult.csv\n"
      ],
      "metadata": {
        "id": "dJzKNZ_Hsszm"
      },
      "execution_count": 13,
      "outputs": []
    },
    {
      "cell_type": "code",
      "source": [
        "!head -n 1 adult.csv"
      ],
      "metadata": {
        "colab": {
          "base_uri": "https://localhost:8080/"
        },
        "id": "a4SNpe5YsvEC",
        "outputId": "017eefff-53b9-4749-d783-2e506b1bf1a0"
      },
      "execution_count": 15,
      "outputs": [
        {
          "output_type": "stream",
          "name": "stdout",
          "text": [
            "age,workclass,fnlwgt,education,education-num,marital-status,occupation,relationship,race,sex,capital-gain,capital-loss,native-country,class\n"
          ]
        }
      ]
    },
    {
      "cell_type": "code",
      "source": [
        "!sed \"s/<string to replace>/<string to replace it with>/g\" <source_file> > <target_file>."
      ],
      "metadata": {
        "colab": {
          "base_uri": "https://localhost:8080/"
        },
        "id": "SNnzBtses0HW",
        "outputId": "9a30e8e6-939f-4820-daaa-7d1a27ee5dd7"
      },
      "execution_count": 16,
      "outputs": [
        {
          "output_type": "stream",
          "name": "stdout",
          "text": [
            "/bin/bash: -c: line 0: syntax error near unexpected token `>'\n",
            "/bin/bash: -c: line 0: `sed \"s/<string to replace>/<string to replace it with>/g\" <source_file> > <target_file>.'\n"
          ]
        }
      ]
    },
    {
      "cell_type": "code",
      "source": [
        "!grep \", ?,\" adult.csv | wc -l"
      ],
      "metadata": {
        "colab": {
          "base_uri": "https://localhost:8080/"
        },
        "id": "p8kiTBLawmED",
        "outputId": "4f0e77a3-3874-4c93-d65e-4a7ae38b1503"
      },
      "execution_count": 18,
      "outputs": [
        {
          "output_type": "stream",
          "name": "stdout",
          "text": [
            "2399\n"
          ]
        }
      ]
    },
    {
      "cell_type": "code",
      "source": [
        "!sed \"s/, ?,/,,/g\" adult.csv >  new.adult.csv"
      ],
      "metadata": {
        "colab": {
          "base_uri": "https://localhost:8080/"
        },
        "id": "n-LibaGpwybv",
        "outputId": "34b22c9a-5e2e-4f71-dc1a-7f95acff814c"
      },
      "execution_count": 20,
      "outputs": [
        {
          "output_type": "stream",
          "name": "stdout",
          "text": [
            "/bin/bash: new.adult.csv: command not found\n"
          ]
        }
      ]
    }
  ]
}